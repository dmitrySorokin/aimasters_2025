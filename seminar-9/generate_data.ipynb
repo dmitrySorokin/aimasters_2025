{
 "cells": [
  {
   "cell_type": "code",
   "execution_count": 1,
   "metadata": {},
   "outputs": [],
   "source": [
    "import gymnasium as gym\n",
    "import numpy as np\n",
    "import torch\n",
    "from tqdm.notebook import tqdm\n",
    "import os\n",
    "import math\n",
    "\n",
    "# pip install stable-baselines3=2.0.0\n",
    "from stable_baselines3 import PPO\n",
    "from stable_baselines3.common.evaluation import evaluate_policy\n",
    "import matplotlib.pyplot as plt\n",
    "from stable_baselines3.common.vec_env import DummyVecEnv"
   ]
  },
  {
   "cell_type": "code",
   "execution_count": 4,
   "metadata": {},
   "outputs": [
    {
     "name": "stdout",
     "output_type": "stream",
     "text": [
      "Using cpu device\n"
     ]
    }
   ],
   "source": [
    "env = gym.make(\"CartPole-v1\", render_mode=\"rgb_array\")\n",
    "\n",
    "def make_env():\n",
    "    return gym.make(\"CartPole-v1\")\n",
    "\n",
    "vec_env = DummyVecEnv([make_env for _ in range(1)])\n",
    "\n",
    "model = PPO(\"MlpPolicy\", vec_env, verbose=1)\n",
    "model.learn(total_timesteps=50_000)\n",
    "\n",
    "model.save(\"ppo_cartpole\")"
   ]
  },
  {
   "cell_type": "code",
   "execution_count": 5,
   "metadata": {},
   "outputs": [
    {
     "name": "stderr",
     "output_type": "stream",
     "text": [
      "/opt/miniconda3/envs/ppo/lib/python3.9/site-packages/stable_baselines3/common/save_util.py:437: FutureWarning: You are using `torch.load` with `weights_only=False` (the current default value), which uses the default pickle module implicitly. It is possible to construct malicious pickle data which will execute arbitrary code during unpickling (See https://github.com/pytorch/pytorch/blob/main/SECURITY.md#untrusted-models for more details). In a future release, the default value for `weights_only` will be flipped to `True`. This limits the functions that could be executed during unpickling. Arbitrary objects will no longer be allowed to be loaded via this mode unless they are explicitly allowlisted by the user via `torch.serialization.add_safe_globals`. We recommend you start setting `weights_only=True` for any use case where you don't have full control of the loaded file. Please open an issue on GitHub for any issues related to this experimental feature.\n",
      "  th_object = th.load(file_content, map_location=device)\n",
      "/opt/miniconda3/envs/ppo/lib/python3.9/site-packages/stable_baselines3/common/evaluation.py:67: UserWarning: Evaluation environment is not wrapped with a ``Monitor`` wrapper. This may result in reporting modified episode lengths and rewards, if other wrappers happen to modify these. Consider wrapping environment first with ``Monitor`` wrapper.\n",
      "  warnings.warn(\n"
     ]
    },
    {
     "name": "stdout",
     "output_type": "stream",
     "text": [
      "Mean reward: 500.00 +/- 0.00\n"
     ]
    }
   ],
   "source": [
    "loaded_model = PPO.load(\"ppo_cartpole\")\n",
    "\n",
    "mean_reward, std_reward = evaluate_policy(loaded_model, vec_env, n_eval_episodes=100)\n",
    "print(f\"Mean reward: {mean_reward:.2f} +/- {std_reward:.2f}\")"
   ]
  },
  {
   "cell_type": "code",
   "execution_count": 25,
   "metadata": {},
   "outputs": [],
   "source": [
    "env = gym.make(\"CartPole-v1\", render_mode=\"human\") # render_mode=\"rgb_array\"\n",
    "\n",
    "obs, _ = env.reset(seed=42)\n",
    "\n",
    "for _ in range(500):\n",
    "    action, _ = loaded_model.predict(obs, deterministic=True)\n",
    "    obs, reward, terminated, truncated, info = env.step(action)\n",
    "    if terminated or truncated:\n",
    "        break"
   ]
  },
  {
   "cell_type": "code",
   "execution_count": 20,
   "metadata": {},
   "outputs": [
    {
     "name": "stdout",
     "output_type": "stream",
     "text": [
      "obs: [-0.01718314  0.02803363 -0.00328756 -0.04503307] (4,) float32\n",
      "action: 0 () int64\n",
      "reward: 1.0\n",
      "terminated: False\n",
      "truncated: True\n",
      "info: {}\n"
     ]
    }
   ],
   "source": [
    "print(\"obs:\", obs, obs.shape, obs.dtype)\n",
    "print(\"action:\", action, action.shape, action.dtype)\n",
    "print(\"reward:\", reward)\n",
    "print(\"terminated:\", terminated)\n",
    "print(\"truncated:\", truncated)\n",
    "print(\"info:\", info)"
   ]
  },
  {
   "cell_type": "markdown",
   "metadata": {},
   "source": [
    "## Сбор датасета"
   ]
  },
  {
   "cell_type": "code",
   "execution_count": 45,
   "metadata": {},
   "outputs": [
    {
     "data": {
      "application/vnd.jupyter.widget-view+json": {
       "model_id": "e96b1a1640b54119ad99711df2f817ad",
       "version_major": 2,
       "version_minor": 0
      },
      "text/plain": [
       "  0%|          | 0/1000 [00:00<?, ?it/s]"
      ]
     },
     "metadata": {},
     "output_type": "display_data"
    }
   ],
   "source": [
    "env = gym.make(\"CartPole-v1\", render_mode=\"rgb_array\")\n",
    "\n",
    "NUMBER_OF_TRAIN_DATA = 1000\n",
    "MAX_EPISODE_LENGTH = 500\n",
    "SAVE_DIR = \"dataset\"\n",
    "os.makedirs(SAVE_DIR, exist_ok=True)\n",
    "\n",
    "for i in tqdm(range(NUMBER_OF_TRAIN_DATA)):\n",
    "    obs_list, act_list, rew_list, done_list, rtg_list, timesteps_list = [], [], [], [], [], []\n",
    "    obs, _ = env.reset(seed=31415926535897+i)\n",
    "    total_reward = 0\n",
    "\n",
    "    for t in range(MAX_EPISODE_LENGTH):\n",
    "        obs_list.append(obs)\n",
    "        action, _ = loaded_model.predict(obs, deterministic=True)\n",
    "        obs, reward, terminated, truncated, info = env.step(action)\n",
    "        done = terminated or truncated\n",
    "        act_list.append(action)\n",
    "        rew_list.append(reward)\n",
    "        done_list.append(done)\n",
    "        total_reward += reward\n",
    "        rtg = MAX_EPISODE_LENGTH - total_reward\n",
    "        rtg_list.append(rtg)\n",
    "        timesteps_list.append(t)\n",
    "        if done:\n",
    "            break\n",
    "\n",
    "    data = {\n",
    "        'obs': np.array(obs_list),\n",
    "        'action': np.array(act_list),\n",
    "        'reward': np.array(rew_list),\n",
    "        'done': np.array(done_list),\n",
    "        'rtg': np.array(rtg_list),\n",
    "        'timesteps': np.array(timesteps_list)\n",
    "    }\n",
    "\n",
    "    file_path = f'{SAVE_DIR}/train_data_{i}.npz'\n",
    "    np.savez(file_path, **data)"
   ]
  },
  {
   "cell_type": "code",
   "execution_count": 46,
   "metadata": {},
   "outputs": [
    {
     "name": "stdout",
     "output_type": "stream",
     "text": [
      "obs: (500, 4)\n",
      "action: (500,)\n",
      "reward: (500,)\n",
      "done: (500,)\n",
      "rtg: (500,)\n",
      "timesteps: (500,)\n"
     ]
    }
   ],
   "source": [
    "for key in data:\n",
    "    print(f\"{key}: {data[key].shape}\")"
   ]
  },
  {
   "cell_type": "code",
   "execution_count": 47,
   "metadata": {},
   "outputs": [
    {
     "name": "stdout",
     "output_type": "stream",
     "text": [
      "Количество файлов в директории dataset/: 1000\n",
      "Общий размер директории dataset/: 24.77 МБ\n",
      "Средний размер одного файла: 25.37 КБ\n"
     ]
    }
   ],
   "source": [
    "files = os.listdir(SAVE_DIR)\n",
    "file_count = len(files)\n",
    "\n",
    "total_size_bytes = 0\n",
    "for file in files:\n",
    "    file_path = os.path.join(SAVE_DIR, file)\n",
    "    if os.path.isfile(file_path):\n",
    "        total_size_bytes += os.path.getsize(file_path)\n",
    "\n",
    "total_size_mb = total_size_bytes / (1024 * 1024)\n",
    "\n",
    "avg_file_size_kb = (total_size_bytes / file_count) / 1024 if file_count > 0 else 0\n",
    "\n",
    "print(f\"Количество файлов в директории dataset/: {file_count}\")\n",
    "print(f\"Общий размер директории dataset/: {total_size_mb:.2f} МБ\")\n",
    "print(f\"Средний размер одного файла: {avg_file_size_kb:.2f} КБ\")"
   ]
  },
  {
   "cell_type": "code",
   "execution_count": null,
   "metadata": {},
   "outputs": [],
   "source": []
  }
 ],
 "metadata": {
  "kernelspec": {
   "display_name": "Python 3",
   "language": "python",
   "name": "python3"
  },
  "language_info": {
   "codemirror_mode": {
    "name": "ipython",
    "version": 3
   },
   "file_extension": ".py",
   "mimetype": "text/x-python",
   "name": "python",
   "nbconvert_exporter": "python",
   "pygments_lexer": "ipython3",
   "version": "3.9.20"
  }
 },
 "nbformat": 4,
 "nbformat_minor": 2
}
